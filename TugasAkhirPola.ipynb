{
 "cells": [
  {
   "cell_type": "code",
   "execution_count": 1,
   "metadata": {},
   "outputs": [
    {
     "name": "stderr",
     "output_type": "stream",
     "text": [
      "C:\\Users\\LENOVO\\Anaconda3\\lib\\site-packages\\h5py\\__init__.py:36: FutureWarning: Conversion of the second argument of issubdtype from `float` to `np.floating` is deprecated. In future, it will be treated as `np.float64 == np.dtype(float).type`.\n",
      "  from ._conv import register_converters as _register_converters\n",
      "Using TensorFlow backend.\n"
     ]
    }
   ],
   "source": [
    "import numpy as np # linear algebra\n",
    "import pandas as pd # data processing, CSV file I/O (e.g. pd.read_csv)\n",
    "import matplotlib.pyplot as plt\n",
    "\n",
    "import os\n",
    "import glob\n",
    "import cv2\n",
    "import tensorflow as tf\n",
    "from keras import layers\n",
    "from keras.layers import Dropout , Input, Add, Dense, Activation, ZeroPadding2D, BatchNormalization, Flatten, Conv2D, AveragePooling2D, MaxPooling2D, GlobalMaxPooling2D\n",
    "from keras.models import Model, load_model\n",
    "from keras.initializers import glorot_uniform\n",
    "from sklearn.model_selection import train_test_split\n",
    "import keras.backend as K\n",
    "from sklearn.utils import shuffle"
   ]
  },
  {
   "cell_type": "code",
   "execution_count": 2,
   "metadata": {},
   "outputs": [],
   "source": [
    "X_para = []\n",
    "Y_para = []\n",
    "myfiles = glob.glob(\"data/Parasites/*.jpg\")\n",
    "for file in myfiles:\n",
    "    kernel = np.array([[0,-1,0],[-1,6,-1],[0,-1,0]])\n",
    "    img = cv2.filter2D( cv2.resize(cv2.imread(file) , (120,120)) , -1 , kernel)\n",
    "    image_yuv = cv2.cvtColor(img ,cv2.COLOR_BGR2YUV )\n",
    "    image_yuv[: ,: , 0] = cv2.equalizeHist(image_yuv[:,:,0])\n",
    "    image = cv2.cvtColor(image_yuv , cv2.COLOR_YUV2RGB)\n",
    "    X_para.append(image)\n",
    "    Y_para.append(1)"
   ]
  },
  {
   "cell_type": "code",
   "execution_count": 3,
   "metadata": {},
   "outputs": [],
   "source": [
    "X_un , Y_un = [],[]\n",
    "unfiles = glob.glob(\"data/Unparasites/*.jpg\")\n",
    "for file in unfiles:\n",
    "    kernel = np.array([[0,-1,0],[-1,7,-1],[0,-1,0]])\n",
    "    img = cv2.filter2D( cv2.resize(cv2.imread(file) , (120,120)) , -1 , kernel)\n",
    "    X_un.append(img)\n",
    "    Y_un.append(0)"
   ]
  },
  {
   "cell_type": "code",
   "execution_count": 4,
   "metadata": {},
   "outputs": [],
   "source": [
    "X = X_para + X_un\n",
    "Y = Y_para + Y_un\n",
    "X,Y = shuffle = (X,Y)\n",
    "X,Y = shuffle = (X,Y)\n",
    "X,Y = shuffle = (X,Y)\n",
    "X_train,X_test,Y_train,Y_test = train_test_split(X,Y,test_size = 0.3 , random_state =42)\n",
    "X = np.array(X)"
   ]
  },
  {
   "cell_type": "code",
   "execution_count": 27,
   "metadata": {},
   "outputs": [
    {
     "data": {
      "text/plain": [
       "(1191, 120, 120, 3)"
      ]
     },
     "execution_count": 27,
     "metadata": {},
     "output_type": "execute_result"
    }
   ],
   "source": [
    "X.shape"
   ]
  },
  {
   "cell_type": "code",
   "execution_count": 19,
   "metadata": {},
   "outputs": [],
   "source": [
    "inp = Input(shape = (120 , 120 , 3))\n",
    "x = Conv2D(filters = 16 , kernel_size = (3,3) , strides = (1,1) , padding = \"valid\" , kernel_initializer=glorot_uniform(seed = 2))(inp)\n",
    "x = Activation(\"relu\")(x)\n",
    "x = Dropout(0.2)(x)\n",
    "x = Conv2D(filters = 32 , kernel_size = (4,4) , strides = (2,2) , padding = \"valid\" , kernel_initializer=glorot_uniform(seed = 2))(x)\n",
    "x = Activation(\"relu\")(x)\n",
    "x = MaxPooling2D(pool_size = (2,2) , strides = (2,2) , padding = \"valid\")(x)\n",
    "x = Dropout(0.2)(x)\n",
    "x = Conv2D(filters = 64 , kernel_size = (3,3) , strides = (2,2) , padding = \"valid\" , kernel_initializer = glorot_uniform(seed = 2))(x)\n",
    "x = Activation(\"relu\")(x)\n",
    "x = Dropout(0.2)(x)\n",
    "x = Conv2D(filters = 128 , kernel_size = (3,3) , strides = (1,1) , padding = \"valid\" , kernel_initializer = glorot_uniform())(x)\n",
    "x = Activation(\"relu\")(x)\n",
    "x = MaxPooling2D(pool_size = (2,2) , strides = (2,2) , padding = \"valid\")(x)\n",
    "x = Dropout(0.2)(x)\n",
    "x = Conv2D(filters = 256 , kernel_size = (2,2) , strides = (2,2) , padding = \"valid\" , kernel_initializer = glorot_uniform())(x)\n",
    "x = Activation(\"relu\")(x)\n",
    "x = AveragePooling2D(pool_size = (3,3) , strides = (1,1) , padding = \"valid\")(x)\n",
    "x = Dropout(0.2)(x)\n",
    "x = Flatten()(x)\n",
    "x = Dense(120)(x)\n",
    "x = Activation(\"relu\")(x)\n",
    "x = Dropout(0.2)(x)\n",
    "x = Dense(60)(x)\n",
    "x = Activation(\"relu\")(x)\n",
    "x = Dropout(0.2)(x)\n",
    "x = Dense(10)(x)\n",
    "x = Activation(\"relu\")(x)\n",
    "x = Dropout(0.)(x)\n",
    "x = Dense(1)(x)\n",
    "output = Activation(\"sigmoid\")(x)\n",
    "model  = Model(inputs =inp , outputs = output )"
   ]
  },
  {
   "cell_type": "code",
   "execution_count": 39,
   "metadata": {},
   "outputs": [
    {
     "name": "stdout",
     "output_type": "stream",
     "text": [
      "_________________________________________________________________\n",
      "Layer (type)                 Output Shape              Param #   \n",
      "=================================================================\n",
      "input_4 (InputLayer)         (None, 120, 120, 3)       0         \n",
      "_________________________________________________________________\n",
      "conv2d_16 (Conv2D)           (None, 118, 118, 16)      448       \n",
      "_________________________________________________________________\n",
      "activation_24 (Activation)   (None, 118, 118, 16)      0         \n",
      "_________________________________________________________________\n",
      "dropout_22 (Dropout)         (None, 118, 118, 16)      0         \n",
      "_________________________________________________________________\n",
      "conv2d_17 (Conv2D)           (None, 58, 58, 32)        8224      \n",
      "_________________________________________________________________\n",
      "activation_25 (Activation)   (None, 58, 58, 32)        0         \n",
      "_________________________________________________________________\n",
      "max_pooling2d_7 (MaxPooling2 (None, 29, 29, 32)        0         \n",
      "_________________________________________________________________\n",
      "dropout_23 (Dropout)         (None, 29, 29, 32)        0         \n",
      "_________________________________________________________________\n",
      "conv2d_18 (Conv2D)           (None, 14, 14, 64)        18496     \n",
      "_________________________________________________________________\n",
      "activation_26 (Activation)   (None, 14, 14, 64)        0         \n",
      "_________________________________________________________________\n",
      "dropout_24 (Dropout)         (None, 14, 14, 64)        0         \n",
      "_________________________________________________________________\n",
      "conv2d_19 (Conv2D)           (None, 12, 12, 128)       73856     \n",
      "_________________________________________________________________\n",
      "activation_27 (Activation)   (None, 12, 12, 128)       0         \n",
      "_________________________________________________________________\n",
      "max_pooling2d_8 (MaxPooling2 (None, 6, 6, 128)         0         \n",
      "_________________________________________________________________\n",
      "dropout_25 (Dropout)         (None, 6, 6, 128)         0         \n",
      "_________________________________________________________________\n",
      "conv2d_20 (Conv2D)           (None, 3, 3, 256)         131328    \n",
      "_________________________________________________________________\n",
      "activation_28 (Activation)   (None, 3, 3, 256)         0         \n",
      "_________________________________________________________________\n",
      "average_pooling2d_4 (Average (None, 1, 1, 256)         0         \n",
      "_________________________________________________________________\n",
      "dropout_26 (Dropout)         (None, 1, 1, 256)         0         \n",
      "_________________________________________________________________\n",
      "flatten_3 (Flatten)          (None, 256)               0         \n",
      "_________________________________________________________________\n",
      "dense_9 (Dense)              (None, 120)               30840     \n",
      "_________________________________________________________________\n",
      "activation_29 (Activation)   (None, 120)               0         \n",
      "_________________________________________________________________\n",
      "dropout_27 (Dropout)         (None, 120)               0         \n",
      "_________________________________________________________________\n",
      "dense_10 (Dense)             (None, 60)                7260      \n",
      "_________________________________________________________________\n",
      "activation_30 (Activation)   (None, 60)                0         \n",
      "_________________________________________________________________\n",
      "dropout_28 (Dropout)         (None, 60)                0         \n",
      "_________________________________________________________________\n",
      "dense_11 (Dense)             (None, 10)                610       \n",
      "_________________________________________________________________\n",
      "activation_31 (Activation)   (None, 10)                0         \n",
      "_________________________________________________________________\n",
      "dropout_29 (Dropout)         (None, 10)                0         \n",
      "_________________________________________________________________\n",
      "dense_12 (Dense)             (None, 1)                 11        \n",
      "_________________________________________________________________\n",
      "activation_32 (Activation)   (None, 1)                 0         \n",
      "=================================================================\n",
      "Total params: 271,073\n",
      "Trainable params: 271,073\n",
      "Non-trainable params: 0\n",
      "_________________________________________________________________\n"
     ]
    }
   ],
   "source": [
    "model.summary()"
   ]
  },
  {
   "cell_type": "code",
   "execution_count": 23,
   "metadata": {},
   "outputs": [
    {
     "name": "stdout",
     "output_type": "stream",
     "text": [
      "Train on 583 samples, validate on 250 samples\n",
      "Epoch 1/13\n",
      "583/583 [==============================] - 4s 7ms/step - loss: 8.3028e-05 - acc: 1.0000 - val_loss: 1.0200e-07 - val_acc: 1.0000\n",
      "Epoch 2/13\n",
      "583/583 [==============================] - 3s 5ms/step - loss: 0.2656 - acc: 0.9674 - val_loss: 0.0160 - val_acc: 0.9880\n",
      "Epoch 3/13\n",
      "583/583 [==============================] - 3s 5ms/step - loss: 0.0180 - acc: 0.9983 - val_loss: 3.8817e-04 - val_acc: 1.0000\n",
      "Epoch 4/13\n",
      "583/583 [==============================] - 3s 5ms/step - loss: 0.0196 - acc: 0.9983 - val_loss: 3.9265e-05 - val_acc: 1.0000\n",
      "Epoch 5/13\n",
      "583/583 [==============================] - 3s 5ms/step - loss: 0.0013 - acc: 1.0000 - val_loss: 1.9224e-06 - val_acc: 1.0000\n",
      "Epoch 6/13\n",
      "583/583 [==============================] - 3s 5ms/step - loss: 0.0019 - acc: 0.9983 - val_loss: 3.1276e-07 - val_acc: 1.0000\n",
      "Epoch 7/13\n",
      "583/583 [==============================] - 3s 5ms/step - loss: 8.8853e-06 - acc: 1.0000 - val_loss: 1.6494e-07 - val_acc: 1.0000\n",
      "Epoch 8/13\n",
      "583/583 [==============================] - 3s 5ms/step - loss: 1.3763e-05 - acc: 1.0000 - val_loss: 1.3347e-07 - val_acc: 1.0000\n",
      "Epoch 9/13\n",
      "583/583 [==============================] - 3s 5ms/step - loss: 1.7435e-05 - acc: 1.0000 - val_loss: 1.2202e-07 - val_acc: 1.0000\n",
      "Epoch 10/13\n",
      "583/583 [==============================] - 3s 5ms/step - loss: 2.7883e-06 - acc: 1.0000 - val_loss: 1.1821e-07 - val_acc: 1.0000\n",
      "Epoch 11/13\n",
      "583/583 [==============================] - 3s 5ms/step - loss: 7.9646e-06 - acc: 1.0000 - val_loss: 1.2059e-07 - val_acc: 1.0000\n",
      "Epoch 12/13\n",
      "583/583 [==============================] - 3s 5ms/step - loss: 1.0355e-05 - acc: 1.0000 - val_loss: 1.2107e-07 - val_acc: 1.0000\n",
      "Epoch 13/13\n",
      "583/583 [==============================] - 3s 5ms/step - loss: 4.2544e-05 - acc: 1.0000 - val_loss: 1.1821e-07 - val_acc: 1.0000\n"
     ]
    }
   ],
   "source": [
    "model.compile(loss = \"binary_crossentropy\" , optimizer = \"adam\" , metrics = [\"accuracy\"])\n",
    "history = model.fit(np.array(X_train) ,np.array(Y_train) , batch_size=64, epochs = 15 ,validation_split = 0.3 )"
   ]
  },
  {
   "cell_type": "code",
   "execution_count": 32,
   "metadata": {},
   "outputs": [
    {
     "data": {
      "text/plain": [
       "82.62300587741393"
      ]
     },
     "execution_count": 32,
     "metadata": {},
     "output_type": "execute_result"
    }
   ],
   "source": [
    "y_pre = model.predict(np.array(X_test))\n",
    "Y_test = np.array(Y_test)\n",
    "fil = y_pre > 0.8\n",
    "y_pre[fil] = 1\n",
    "fil = y_pre < 0.8\n",
    "y_pre[fil] = 0\n",
    "np.sum(Y_test == y_pre)/1191"
   ]
  },
  {
   "cell_type": "code",
   "execution_count": 41,
   "metadata": {},
   "outputs": [
    {
     "data": {
      "image/png": "[encoded data removed]",
      "text/plain": [
       "<Figure size 432x288 with 1 Axes>"
      ]
     },
     "metadata": {},
     "output_type": "display_data"
    }
   ],
   "source": [
    "import seaborn as sns\n",
    "sns.set_context('poster')\n",
    "epochs = 13\n",
    "\n",
    "plt.title(\"Model Accuracy\")\n",
    "plt.plot(range(1,epochs+1), history.history['acc'], label='train')\n",
    "plt.plot(range(1,epochs+1), history.history['val_acc'], label='validation')\n",
    "plt.legend();"
   ]
  },
  {
   "cell_type": "code",
   "execution_count": 10,
   "metadata": {},
   "outputs": [
    {
     "data": {
      "image/png": "[encoded data removed]",
      "text/plain": [
       "<Figure size 432x288 with 1 Axes>"
      ]
     },
     "metadata": {},
     "output_type": "display_data"
    }
   ],
   "source": [
    "plt.plot(history.history['acc'])\n",
    "plt.plot(history.history[\"val_acc\"])\n",
    "plt.title(\"Model Accuracy\")\n",
    "plt.xlabel(\"Accuracy\")\n",
    "plt.ylabel(\"Epochs\")\n",
    "plt.legend(['Train', 'Val'], loc='lower right')\n",
    "plt.show()"
   ]
  },
  {
   "cell_type": "code",
   "execution_count": 40,
   "metadata": {},
   "outputs": [
    {
     "data": {
      "image/png": "[encoded data removed]",
      "text/plain": [
       "<Figure size 432x288 with 1 Axes>"
      ]
     },
     "metadata": {},
     "output_type": "display_data"
    }
   ],
   "source": [
    "plt.plot(history.history[\"loss\"])\n",
    "plt.plot(history.history[\"val_loss\"])\n",
    "plt.title(\"Model Loss\")\n",
    "plt.ylabel(\"Loss\")\n",
    "plt.xlabel(\"Epochs\")\n",
    "plt.legend(['Train', 'Val'], loc='upper right')\n",
    "plt.show()"
   ]
  },
  {
   "cell_type": "code",
   "execution_count": null,
   "metadata": {},
   "outputs": [],
   "source": []
  }
 ],
 "metadata": {
  "kernelspec": {
   "display_name": "Python 3",
   "language": "python",
   "name": "python3"
  },
  "language_info": {
   "codemirror_mode": {
    "name": "ipython",
    "version": 3
   },
   "file_extension": ".py",
   "mimetype": "text/x-python",
   "name": "python",
   "nbconvert_exporter": "python",
   "pygments_lexer": "ipython3",
   "version": "3.6.5"
  }
 },
 "nbformat": 4,
 "nbformat_minor": 2
}
